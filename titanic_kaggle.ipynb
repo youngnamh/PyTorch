{
  "nbformat": 4,
  "nbformat_minor": 0,
  "metadata": {
    "colab": {
      "provenance": [],
      "authorship_tag": "ABX9TyMYB6g48xnuD7OtoygMhxS4",
      "include_colab_link": true
    },
    "kernelspec": {
      "name": "python3",
      "display_name": "Python 3"
    },
    "language_info": {
      "name": "python"
    }
  },
  "cells": [
    {
      "cell_type": "markdown",
      "metadata": {
        "id": "view-in-github",
        "colab_type": "text"
      },
      "source": [
        "<a href=\"https://colab.research.google.com/github/youngnamh/PyTorch/blob/main/titanic_kaggle.ipynb\" target=\"_parent\"><img src=\"https://colab.research.google.com/assets/colab-badge.svg\" alt=\"Open In Colab\"/></a>"
      ]
    },
    {
      "cell_type": "markdown",
      "source": [
        "# Starting Imports"
      ],
      "metadata": {
        "id": "jByN-pMe612h"
      }
    },
    {
      "cell_type": "code",
      "execution_count": 191,
      "metadata": {
        "colab": {
          "base_uri": "https://localhost:8080/"
        },
        "id": "Ofgc0p0M5kBQ",
        "outputId": "3c981b3d-3c2e-4094-c26c-ee6aeaa00b4c"
      },
      "outputs": [
        {
          "output_type": "stream",
          "name": "stdout",
          "text": [
            "Drive already mounted at /content/drive; to attempt to forcibly remount, call drive.mount(\"/content/drive\", force_remount=True).\n"
          ]
        }
      ],
      "source": [
        "from google.colab import drive\n",
        "\n",
        "drive.mount('/content/drive')\n",
        "\n",
        "import numpy as np\n",
        "import pandas as pd\n",
        "import matplotlib.pyplot as plt"
      ]
    },
    {
      "cell_type": "markdown",
      "source": [
        "#Load Data"
      ],
      "metadata": {
        "id": "OuY1Q0HE7vL1"
      }
    },
    {
      "cell_type": "code",
      "source": [
        "training_data = pd.read_csv('/content/drive/My Drive/titanic/train.csv')\n",
        "test_data = pd.read_csv('/content/drive/My Drive/titanic/test.csv')\n"
      ],
      "metadata": {
        "id": "VZ96hHl86003"
      },
      "execution_count": 192,
      "outputs": []
    },
    {
      "cell_type": "markdown",
      "source": [
        "#Starting Data\n"
      ],
      "metadata": {
        "id": "1stZxC6E819u"
      }
    },
    {
      "cell_type": "code",
      "source": [
        "training_data[:5]"
      ],
      "metadata": {
        "colab": {
          "base_uri": "https://localhost:8080/",
          "height": 504
        },
        "id": "8GLT9JFz9EUb",
        "outputId": "14c46fd6-5684-4a34-9e66-1685477581b0"
      },
      "execution_count": 193,
      "outputs": [
        {
          "output_type": "execute_result",
          "data": {
            "text/plain": [
              "   PassengerId  Survived  Pclass  \\\n",
              "0            1         0       3   \n",
              "1            2         1       1   \n",
              "2            3         1       3   \n",
              "3            4         1       1   \n",
              "4            5         0       3   \n",
              "\n",
              "                                                Name     Sex   Age  SibSp  \\\n",
              "0                            Braund, Mr. Owen Harris    male  22.0      1   \n",
              "1  Cumings, Mrs. John Bradley (Florence Briggs Th...  female  38.0      1   \n",
              "2                             Heikkinen, Miss. Laina  female  26.0      0   \n",
              "3       Futrelle, Mrs. Jacques Heath (Lily May Peel)  female  35.0      1   \n",
              "4                           Allen, Mr. William Henry    male  35.0      0   \n",
              "\n",
              "   Parch            Ticket     Fare Cabin Embarked  \n",
              "0      0         A/5 21171   7.2500   NaN        S  \n",
              "1      0          PC 17599  71.2833   C85        C  \n",
              "2      0  STON/O2. 3101282   7.9250   NaN        S  \n",
              "3      0            113803  53.1000  C123        S  \n",
              "4      0            373450   8.0500   NaN        S  "
            ],
            "text/html": [
              "\n",
              "  <div id=\"df-dd9ab838-015a-4dce-9d6d-ef49c4a12388\" class=\"colab-df-container\">\n",
              "    <div>\n",
              "<style scoped>\n",
              "    .dataframe tbody tr th:only-of-type {\n",
              "        vertical-align: middle;\n",
              "    }\n",
              "\n",
              "    .dataframe tbody tr th {\n",
              "        vertical-align: top;\n",
              "    }\n",
              "\n",
              "    .dataframe thead th {\n",
              "        text-align: right;\n",
              "    }\n",
              "</style>\n",
              "<table border=\"1\" class=\"dataframe\">\n",
              "  <thead>\n",
              "    <tr style=\"text-align: right;\">\n",
              "      <th></th>\n",
              "      <th>PassengerId</th>\n",
              "      <th>Survived</th>\n",
              "      <th>Pclass</th>\n",
              "      <th>Name</th>\n",
              "      <th>Sex</th>\n",
              "      <th>Age</th>\n",
              "      <th>SibSp</th>\n",
              "      <th>Parch</th>\n",
              "      <th>Ticket</th>\n",
              "      <th>Fare</th>\n",
              "      <th>Cabin</th>\n",
              "      <th>Embarked</th>\n",
              "    </tr>\n",
              "  </thead>\n",
              "  <tbody>\n",
              "    <tr>\n",
              "      <th>0</th>\n",
              "      <td>1</td>\n",
              "      <td>0</td>\n",
              "      <td>3</td>\n",
              "      <td>Braund, Mr. Owen Harris</td>\n",
              "      <td>male</td>\n",
              "      <td>22.0</td>\n",
              "      <td>1</td>\n",
              "      <td>0</td>\n",
              "      <td>A/5 21171</td>\n",
              "      <td>7.2500</td>\n",
              "      <td>NaN</td>\n",
              "      <td>S</td>\n",
              "    </tr>\n",
              "    <tr>\n",
              "      <th>1</th>\n",
              "      <td>2</td>\n",
              "      <td>1</td>\n",
              "      <td>1</td>\n",
              "      <td>Cumings, Mrs. John Bradley (Florence Briggs Th...</td>\n",
              "      <td>female</td>\n",
              "      <td>38.0</td>\n",
              "      <td>1</td>\n",
              "      <td>0</td>\n",
              "      <td>PC 17599</td>\n",
              "      <td>71.2833</td>\n",
              "      <td>C85</td>\n",
              "      <td>C</td>\n",
              "    </tr>\n",
              "    <tr>\n",
              "      <th>2</th>\n",
              "      <td>3</td>\n",
              "      <td>1</td>\n",
              "      <td>3</td>\n",
              "      <td>Heikkinen, Miss. Laina</td>\n",
              "      <td>female</td>\n",
              "      <td>26.0</td>\n",
              "      <td>0</td>\n",
              "      <td>0</td>\n",
              "      <td>STON/O2. 3101282</td>\n",
              "      <td>7.9250</td>\n",
              "      <td>NaN</td>\n",
              "      <td>S</td>\n",
              "    </tr>\n",
              "    <tr>\n",
              "      <th>3</th>\n",
              "      <td>4</td>\n",
              "      <td>1</td>\n",
              "      <td>1</td>\n",
              "      <td>Futrelle, Mrs. Jacques Heath (Lily May Peel)</td>\n",
              "      <td>female</td>\n",
              "      <td>35.0</td>\n",
              "      <td>1</td>\n",
              "      <td>0</td>\n",
              "      <td>113803</td>\n",
              "      <td>53.1000</td>\n",
              "      <td>C123</td>\n",
              "      <td>S</td>\n",
              "    </tr>\n",
              "    <tr>\n",
              "      <th>4</th>\n",
              "      <td>5</td>\n",
              "      <td>0</td>\n",
              "      <td>3</td>\n",
              "      <td>Allen, Mr. William Henry</td>\n",
              "      <td>male</td>\n",
              "      <td>35.0</td>\n",
              "      <td>0</td>\n",
              "      <td>0</td>\n",
              "      <td>373450</td>\n",
              "      <td>8.0500</td>\n",
              "      <td>NaN</td>\n",
              "      <td>S</td>\n",
              "    </tr>\n",
              "  </tbody>\n",
              "</table>\n",
              "</div>\n",
              "    <div class=\"colab-df-buttons\">\n",
              "\n",
              "  <div class=\"colab-df-container\">\n",
              "    <button class=\"colab-df-convert\" onclick=\"convertToInteractive('df-dd9ab838-015a-4dce-9d6d-ef49c4a12388')\"\n",
              "            title=\"Convert this dataframe to an interactive table.\"\n",
              "            style=\"display:none;\">\n",
              "\n",
              "  <svg xmlns=\"http://www.w3.org/2000/svg\" height=\"24px\" viewBox=\"0 -960 960 960\">\n",
              "    <path d=\"M120-120v-720h720v720H120Zm60-500h600v-160H180v160Zm220 220h160v-160H400v160Zm0 220h160v-160H400v160ZM180-400h160v-160H180v160Zm440 0h160v-160H620v160ZM180-180h160v-160H180v160Zm440 0h160v-160H620v160Z\"/>\n",
              "  </svg>\n",
              "    </button>\n",
              "\n",
              "  <style>\n",
              "    .colab-df-container {\n",
              "      display:flex;\n",
              "      gap: 12px;\n",
              "    }\n",
              "\n",
              "    .colab-df-convert {\n",
              "      background-color: #E8F0FE;\n",
              "      border: none;\n",
              "      border-radius: 50%;\n",
              "      cursor: pointer;\n",
              "      display: none;\n",
              "      fill: #1967D2;\n",
              "      height: 32px;\n",
              "      padding: 0 0 0 0;\n",
              "      width: 32px;\n",
              "    }\n",
              "\n",
              "    .colab-df-convert:hover {\n",
              "      background-color: #E2EBFA;\n",
              "      box-shadow: 0px 1px 2px rgba(60, 64, 67, 0.3), 0px 1px 3px 1px rgba(60, 64, 67, 0.15);\n",
              "      fill: #174EA6;\n",
              "    }\n",
              "\n",
              "    .colab-df-buttons div {\n",
              "      margin-bottom: 4px;\n",
              "    }\n",
              "\n",
              "    [theme=dark] .colab-df-convert {\n",
              "      background-color: #3B4455;\n",
              "      fill: #D2E3FC;\n",
              "    }\n",
              "\n",
              "    [theme=dark] .colab-df-convert:hover {\n",
              "      background-color: #434B5C;\n",
              "      box-shadow: 0px 1px 3px 1px rgba(0, 0, 0, 0.15);\n",
              "      filter: drop-shadow(0px 1px 2px rgba(0, 0, 0, 0.3));\n",
              "      fill: #FFFFFF;\n",
              "    }\n",
              "  </style>\n",
              "\n",
              "    <script>\n",
              "      const buttonEl =\n",
              "        document.querySelector('#df-dd9ab838-015a-4dce-9d6d-ef49c4a12388 button.colab-df-convert');\n",
              "      buttonEl.style.display =\n",
              "        google.colab.kernel.accessAllowed ? 'block' : 'none';\n",
              "\n",
              "      async function convertToInteractive(key) {\n",
              "        const element = document.querySelector('#df-dd9ab838-015a-4dce-9d6d-ef49c4a12388');\n",
              "        const dataTable =\n",
              "          await google.colab.kernel.invokeFunction('convertToInteractive',\n",
              "                                                    [key], {});\n",
              "        if (!dataTable) return;\n",
              "\n",
              "        const docLinkHtml = 'Like what you see? Visit the ' +\n",
              "          '<a target=\"_blank\" href=https://colab.research.google.com/notebooks/data_table.ipynb>data table notebook</a>'\n",
              "          + ' to learn more about interactive tables.';\n",
              "        element.innerHTML = '';\n",
              "        dataTable['output_type'] = 'display_data';\n",
              "        await google.colab.output.renderOutput(dataTable, element);\n",
              "        const docLink = document.createElement('div');\n",
              "        docLink.innerHTML = docLinkHtml;\n",
              "        element.appendChild(docLink);\n",
              "      }\n",
              "    </script>\n",
              "  </div>\n",
              "\n",
              "\n",
              "<div id=\"df-8422ad58-211c-41d9-b9d2-a6cb099f15e8\">\n",
              "  <button class=\"colab-df-quickchart\" onclick=\"quickchart('df-8422ad58-211c-41d9-b9d2-a6cb099f15e8')\"\n",
              "            title=\"Suggest charts.\"\n",
              "            style=\"display:none;\">\n",
              "\n",
              "<svg xmlns=\"http://www.w3.org/2000/svg\" height=\"24px\"viewBox=\"0 0 24 24\"\n",
              "     width=\"24px\">\n",
              "    <g>\n",
              "        <path d=\"M19 3H5c-1.1 0-2 .9-2 2v14c0 1.1.9 2 2 2h14c1.1 0 2-.9 2-2V5c0-1.1-.9-2-2-2zM9 17H7v-7h2v7zm4 0h-2V7h2v10zm4 0h-2v-4h2v4z\"/>\n",
              "    </g>\n",
              "</svg>\n",
              "  </button>\n",
              "\n",
              "<style>\n",
              "  .colab-df-quickchart {\n",
              "      --bg-color: #E8F0FE;\n",
              "      --fill-color: #1967D2;\n",
              "      --hover-bg-color: #E2EBFA;\n",
              "      --hover-fill-color: #174EA6;\n",
              "      --disabled-fill-color: #AAA;\n",
              "      --disabled-bg-color: #DDD;\n",
              "  }\n",
              "\n",
              "  [theme=dark] .colab-df-quickchart {\n",
              "      --bg-color: #3B4455;\n",
              "      --fill-color: #D2E3FC;\n",
              "      --hover-bg-color: #434B5C;\n",
              "      --hover-fill-color: #FFFFFF;\n",
              "      --disabled-bg-color: #3B4455;\n",
              "      --disabled-fill-color: #666;\n",
              "  }\n",
              "\n",
              "  .colab-df-quickchart {\n",
              "    background-color: var(--bg-color);\n",
              "    border: none;\n",
              "    border-radius: 50%;\n",
              "    cursor: pointer;\n",
              "    display: none;\n",
              "    fill: var(--fill-color);\n",
              "    height: 32px;\n",
              "    padding: 0;\n",
              "    width: 32px;\n",
              "  }\n",
              "\n",
              "  .colab-df-quickchart:hover {\n",
              "    background-color: var(--hover-bg-color);\n",
              "    box-shadow: 0 1px 2px rgba(60, 64, 67, 0.3), 0 1px 3px 1px rgba(60, 64, 67, 0.15);\n",
              "    fill: var(--button-hover-fill-color);\n",
              "  }\n",
              "\n",
              "  .colab-df-quickchart-complete:disabled,\n",
              "  .colab-df-quickchart-complete:disabled:hover {\n",
              "    background-color: var(--disabled-bg-color);\n",
              "    fill: var(--disabled-fill-color);\n",
              "    box-shadow: none;\n",
              "  }\n",
              "\n",
              "  .colab-df-spinner {\n",
              "    border: 2px solid var(--fill-color);\n",
              "    border-color: transparent;\n",
              "    border-bottom-color: var(--fill-color);\n",
              "    animation:\n",
              "      spin 1s steps(1) infinite;\n",
              "  }\n",
              "\n",
              "  @keyframes spin {\n",
              "    0% {\n",
              "      border-color: transparent;\n",
              "      border-bottom-color: var(--fill-color);\n",
              "      border-left-color: var(--fill-color);\n",
              "    }\n",
              "    20% {\n",
              "      border-color: transparent;\n",
              "      border-left-color: var(--fill-color);\n",
              "      border-top-color: var(--fill-color);\n",
              "    }\n",
              "    30% {\n",
              "      border-color: transparent;\n",
              "      border-left-color: var(--fill-color);\n",
              "      border-top-color: var(--fill-color);\n",
              "      border-right-color: var(--fill-color);\n",
              "    }\n",
              "    40% {\n",
              "      border-color: transparent;\n",
              "      border-right-color: var(--fill-color);\n",
              "      border-top-color: var(--fill-color);\n",
              "    }\n",
              "    60% {\n",
              "      border-color: transparent;\n",
              "      border-right-color: var(--fill-color);\n",
              "    }\n",
              "    80% {\n",
              "      border-color: transparent;\n",
              "      border-right-color: var(--fill-color);\n",
              "      border-bottom-color: var(--fill-color);\n",
              "    }\n",
              "    90% {\n",
              "      border-color: transparent;\n",
              "      border-bottom-color: var(--fill-color);\n",
              "    }\n",
              "  }\n",
              "</style>\n",
              "\n",
              "  <script>\n",
              "    async function quickchart(key) {\n",
              "      const quickchartButtonEl =\n",
              "        document.querySelector('#' + key + ' button');\n",
              "      quickchartButtonEl.disabled = true;  // To prevent multiple clicks.\n",
              "      quickchartButtonEl.classList.add('colab-df-spinner');\n",
              "      try {\n",
              "        const charts = await google.colab.kernel.invokeFunction(\n",
              "            'suggestCharts', [key], {});\n",
              "      } catch (error) {\n",
              "        console.error('Error during call to suggestCharts:', error);\n",
              "      }\n",
              "      quickchartButtonEl.classList.remove('colab-df-spinner');\n",
              "      quickchartButtonEl.classList.add('colab-df-quickchart-complete');\n",
              "    }\n",
              "    (() => {\n",
              "      let quickchartButtonEl =\n",
              "        document.querySelector('#df-8422ad58-211c-41d9-b9d2-a6cb099f15e8 button');\n",
              "      quickchartButtonEl.style.display =\n",
              "        google.colab.kernel.accessAllowed ? 'block' : 'none';\n",
              "    })();\n",
              "  </script>\n",
              "</div>\n",
              "    </div>\n",
              "  </div>\n"
            ]
          },
          "metadata": {},
          "execution_count": 193
        }
      ]
    },
    {
      "cell_type": "code",
      "source": [
        "training_data.describe()"
      ],
      "metadata": {
        "colab": {
          "base_uri": "https://localhost:8080/",
          "height": 300
        },
        "id": "RV445jQm85Ah",
        "outputId": "e1206254-9f7c-4bfb-f93b-3894ecfa66e5"
      },
      "execution_count": 194,
      "outputs": [
        {
          "output_type": "execute_result",
          "data": {
            "text/plain": [
              "       PassengerId    Survived      Pclass         Age       SibSp  \\\n",
              "count   891.000000  891.000000  891.000000  714.000000  891.000000   \n",
              "mean    446.000000    0.383838    2.308642   29.699118    0.523008   \n",
              "std     257.353842    0.486592    0.836071   14.526497    1.102743   \n",
              "min       1.000000    0.000000    1.000000    0.420000    0.000000   \n",
              "25%     223.500000    0.000000    2.000000   20.125000    0.000000   \n",
              "50%     446.000000    0.000000    3.000000   28.000000    0.000000   \n",
              "75%     668.500000    1.000000    3.000000   38.000000    1.000000   \n",
              "max     891.000000    1.000000    3.000000   80.000000    8.000000   \n",
              "\n",
              "            Parch        Fare  \n",
              "count  891.000000  891.000000  \n",
              "mean     0.381594   32.204208  \n",
              "std      0.806057   49.693429  \n",
              "min      0.000000    0.000000  \n",
              "25%      0.000000    7.910400  \n",
              "50%      0.000000   14.454200  \n",
              "75%      0.000000   31.000000  \n",
              "max      6.000000  512.329200  "
            ],
            "text/html": [
              "\n",
              "  <div id=\"df-6d4abc84-d4ed-4f83-890b-ae323d840dbd\" class=\"colab-df-container\">\n",
              "    <div>\n",
              "<style scoped>\n",
              "    .dataframe tbody tr th:only-of-type {\n",
              "        vertical-align: middle;\n",
              "    }\n",
              "\n",
              "    .dataframe tbody tr th {\n",
              "        vertical-align: top;\n",
              "    }\n",
              "\n",
              "    .dataframe thead th {\n",
              "        text-align: right;\n",
              "    }\n",
              "</style>\n",
              "<table border=\"1\" class=\"dataframe\">\n",
              "  <thead>\n",
              "    <tr style=\"text-align: right;\">\n",
              "      <th></th>\n",
              "      <th>PassengerId</th>\n",
              "      <th>Survived</th>\n",
              "      <th>Pclass</th>\n",
              "      <th>Age</th>\n",
              "      <th>SibSp</th>\n",
              "      <th>Parch</th>\n",
              "      <th>Fare</th>\n",
              "    </tr>\n",
              "  </thead>\n",
              "  <tbody>\n",
              "    <tr>\n",
              "      <th>count</th>\n",
              "      <td>891.000000</td>\n",
              "      <td>891.000000</td>\n",
              "      <td>891.000000</td>\n",
              "      <td>714.000000</td>\n",
              "      <td>891.000000</td>\n",
              "      <td>891.000000</td>\n",
              "      <td>891.000000</td>\n",
              "    </tr>\n",
              "    <tr>\n",
              "      <th>mean</th>\n",
              "      <td>446.000000</td>\n",
              "      <td>0.383838</td>\n",
              "      <td>2.308642</td>\n",
              "      <td>29.699118</td>\n",
              "      <td>0.523008</td>\n",
              "      <td>0.381594</td>\n",
              "      <td>32.204208</td>\n",
              "    </tr>\n",
              "    <tr>\n",
              "      <th>std</th>\n",
              "      <td>257.353842</td>\n",
              "      <td>0.486592</td>\n",
              "      <td>0.836071</td>\n",
              "      <td>14.526497</td>\n",
              "      <td>1.102743</td>\n",
              "      <td>0.806057</td>\n",
              "      <td>49.693429</td>\n",
              "    </tr>\n",
              "    <tr>\n",
              "      <th>min</th>\n",
              "      <td>1.000000</td>\n",
              "      <td>0.000000</td>\n",
              "      <td>1.000000</td>\n",
              "      <td>0.420000</td>\n",
              "      <td>0.000000</td>\n",
              "      <td>0.000000</td>\n",
              "      <td>0.000000</td>\n",
              "    </tr>\n",
              "    <tr>\n",
              "      <th>25%</th>\n",
              "      <td>223.500000</td>\n",
              "      <td>0.000000</td>\n",
              "      <td>2.000000</td>\n",
              "      <td>20.125000</td>\n",
              "      <td>0.000000</td>\n",
              "      <td>0.000000</td>\n",
              "      <td>7.910400</td>\n",
              "    </tr>\n",
              "    <tr>\n",
              "      <th>50%</th>\n",
              "      <td>446.000000</td>\n",
              "      <td>0.000000</td>\n",
              "      <td>3.000000</td>\n",
              "      <td>28.000000</td>\n",
              "      <td>0.000000</td>\n",
              "      <td>0.000000</td>\n",
              "      <td>14.454200</td>\n",
              "    </tr>\n",
              "    <tr>\n",
              "      <th>75%</th>\n",
              "      <td>668.500000</td>\n",
              "      <td>1.000000</td>\n",
              "      <td>3.000000</td>\n",
              "      <td>38.000000</td>\n",
              "      <td>1.000000</td>\n",
              "      <td>0.000000</td>\n",
              "      <td>31.000000</td>\n",
              "    </tr>\n",
              "    <tr>\n",
              "      <th>max</th>\n",
              "      <td>891.000000</td>\n",
              "      <td>1.000000</td>\n",
              "      <td>3.000000</td>\n",
              "      <td>80.000000</td>\n",
              "      <td>8.000000</td>\n",
              "      <td>6.000000</td>\n",
              "      <td>512.329200</td>\n",
              "    </tr>\n",
              "  </tbody>\n",
              "</table>\n",
              "</div>\n",
              "    <div class=\"colab-df-buttons\">\n",
              "\n",
              "  <div class=\"colab-df-container\">\n",
              "    <button class=\"colab-df-convert\" onclick=\"convertToInteractive('df-6d4abc84-d4ed-4f83-890b-ae323d840dbd')\"\n",
              "            title=\"Convert this dataframe to an interactive table.\"\n",
              "            style=\"display:none;\">\n",
              "\n",
              "  <svg xmlns=\"http://www.w3.org/2000/svg\" height=\"24px\" viewBox=\"0 -960 960 960\">\n",
              "    <path d=\"M120-120v-720h720v720H120Zm60-500h600v-160H180v160Zm220 220h160v-160H400v160Zm0 220h160v-160H400v160ZM180-400h160v-160H180v160Zm440 0h160v-160H620v160ZM180-180h160v-160H180v160Zm440 0h160v-160H620v160Z\"/>\n",
              "  </svg>\n",
              "    </button>\n",
              "\n",
              "  <style>\n",
              "    .colab-df-container {\n",
              "      display:flex;\n",
              "      gap: 12px;\n",
              "    }\n",
              "\n",
              "    .colab-df-convert {\n",
              "      background-color: #E8F0FE;\n",
              "      border: none;\n",
              "      border-radius: 50%;\n",
              "      cursor: pointer;\n",
              "      display: none;\n",
              "      fill: #1967D2;\n",
              "      height: 32px;\n",
              "      padding: 0 0 0 0;\n",
              "      width: 32px;\n",
              "    }\n",
              "\n",
              "    .colab-df-convert:hover {\n",
              "      background-color: #E2EBFA;\n",
              "      box-shadow: 0px 1px 2px rgba(60, 64, 67, 0.3), 0px 1px 3px 1px rgba(60, 64, 67, 0.15);\n",
              "      fill: #174EA6;\n",
              "    }\n",
              "\n",
              "    .colab-df-buttons div {\n",
              "      margin-bottom: 4px;\n",
              "    }\n",
              "\n",
              "    [theme=dark] .colab-df-convert {\n",
              "      background-color: #3B4455;\n",
              "      fill: #D2E3FC;\n",
              "    }\n",
              "\n",
              "    [theme=dark] .colab-df-convert:hover {\n",
              "      background-color: #434B5C;\n",
              "      box-shadow: 0px 1px 3px 1px rgba(0, 0, 0, 0.15);\n",
              "      filter: drop-shadow(0px 1px 2px rgba(0, 0, 0, 0.3));\n",
              "      fill: #FFFFFF;\n",
              "    }\n",
              "  </style>\n",
              "\n",
              "    <script>\n",
              "      const buttonEl =\n",
              "        document.querySelector('#df-6d4abc84-d4ed-4f83-890b-ae323d840dbd button.colab-df-convert');\n",
              "      buttonEl.style.display =\n",
              "        google.colab.kernel.accessAllowed ? 'block' : 'none';\n",
              "\n",
              "      async function convertToInteractive(key) {\n",
              "        const element = document.querySelector('#df-6d4abc84-d4ed-4f83-890b-ae323d840dbd');\n",
              "        const dataTable =\n",
              "          await google.colab.kernel.invokeFunction('convertToInteractive',\n",
              "                                                    [key], {});\n",
              "        if (!dataTable) return;\n",
              "\n",
              "        const docLinkHtml = 'Like what you see? Visit the ' +\n",
              "          '<a target=\"_blank\" href=https://colab.research.google.com/notebooks/data_table.ipynb>data table notebook</a>'\n",
              "          + ' to learn more about interactive tables.';\n",
              "        element.innerHTML = '';\n",
              "        dataTable['output_type'] = 'display_data';\n",
              "        await google.colab.output.renderOutput(dataTable, element);\n",
              "        const docLink = document.createElement('div');\n",
              "        docLink.innerHTML = docLinkHtml;\n",
              "        element.appendChild(docLink);\n",
              "      }\n",
              "    </script>\n",
              "  </div>\n",
              "\n",
              "\n",
              "<div id=\"df-eb973453-0bb6-4223-8b43-e13080e14857\">\n",
              "  <button class=\"colab-df-quickchart\" onclick=\"quickchart('df-eb973453-0bb6-4223-8b43-e13080e14857')\"\n",
              "            title=\"Suggest charts.\"\n",
              "            style=\"display:none;\">\n",
              "\n",
              "<svg xmlns=\"http://www.w3.org/2000/svg\" height=\"24px\"viewBox=\"0 0 24 24\"\n",
              "     width=\"24px\">\n",
              "    <g>\n",
              "        <path d=\"M19 3H5c-1.1 0-2 .9-2 2v14c0 1.1.9 2 2 2h14c1.1 0 2-.9 2-2V5c0-1.1-.9-2-2-2zM9 17H7v-7h2v7zm4 0h-2V7h2v10zm4 0h-2v-4h2v4z\"/>\n",
              "    </g>\n",
              "</svg>\n",
              "  </button>\n",
              "\n",
              "<style>\n",
              "  .colab-df-quickchart {\n",
              "      --bg-color: #E8F0FE;\n",
              "      --fill-color: #1967D2;\n",
              "      --hover-bg-color: #E2EBFA;\n",
              "      --hover-fill-color: #174EA6;\n",
              "      --disabled-fill-color: #AAA;\n",
              "      --disabled-bg-color: #DDD;\n",
              "  }\n",
              "\n",
              "  [theme=dark] .colab-df-quickchart {\n",
              "      --bg-color: #3B4455;\n",
              "      --fill-color: #D2E3FC;\n",
              "      --hover-bg-color: #434B5C;\n",
              "      --hover-fill-color: #FFFFFF;\n",
              "      --disabled-bg-color: #3B4455;\n",
              "      --disabled-fill-color: #666;\n",
              "  }\n",
              "\n",
              "  .colab-df-quickchart {\n",
              "    background-color: var(--bg-color);\n",
              "    border: none;\n",
              "    border-radius: 50%;\n",
              "    cursor: pointer;\n",
              "    display: none;\n",
              "    fill: var(--fill-color);\n",
              "    height: 32px;\n",
              "    padding: 0;\n",
              "    width: 32px;\n",
              "  }\n",
              "\n",
              "  .colab-df-quickchart:hover {\n",
              "    background-color: var(--hover-bg-color);\n",
              "    box-shadow: 0 1px 2px rgba(60, 64, 67, 0.3), 0 1px 3px 1px rgba(60, 64, 67, 0.15);\n",
              "    fill: var(--button-hover-fill-color);\n",
              "  }\n",
              "\n",
              "  .colab-df-quickchart-complete:disabled,\n",
              "  .colab-df-quickchart-complete:disabled:hover {\n",
              "    background-color: var(--disabled-bg-color);\n",
              "    fill: var(--disabled-fill-color);\n",
              "    box-shadow: none;\n",
              "  }\n",
              "\n",
              "  .colab-df-spinner {\n",
              "    border: 2px solid var(--fill-color);\n",
              "    border-color: transparent;\n",
              "    border-bottom-color: var(--fill-color);\n",
              "    animation:\n",
              "      spin 1s steps(1) infinite;\n",
              "  }\n",
              "\n",
              "  @keyframes spin {\n",
              "    0% {\n",
              "      border-color: transparent;\n",
              "      border-bottom-color: var(--fill-color);\n",
              "      border-left-color: var(--fill-color);\n",
              "    }\n",
              "    20% {\n",
              "      border-color: transparent;\n",
              "      border-left-color: var(--fill-color);\n",
              "      border-top-color: var(--fill-color);\n",
              "    }\n",
              "    30% {\n",
              "      border-color: transparent;\n",
              "      border-left-color: var(--fill-color);\n",
              "      border-top-color: var(--fill-color);\n",
              "      border-right-color: var(--fill-color);\n",
              "    }\n",
              "    40% {\n",
              "      border-color: transparent;\n",
              "      border-right-color: var(--fill-color);\n",
              "      border-top-color: var(--fill-color);\n",
              "    }\n",
              "    60% {\n",
              "      border-color: transparent;\n",
              "      border-right-color: var(--fill-color);\n",
              "    }\n",
              "    80% {\n",
              "      border-color: transparent;\n",
              "      border-right-color: var(--fill-color);\n",
              "      border-bottom-color: var(--fill-color);\n",
              "    }\n",
              "    90% {\n",
              "      border-color: transparent;\n",
              "      border-bottom-color: var(--fill-color);\n",
              "    }\n",
              "  }\n",
              "</style>\n",
              "\n",
              "  <script>\n",
              "    async function quickchart(key) {\n",
              "      const quickchartButtonEl =\n",
              "        document.querySelector('#' + key + ' button');\n",
              "      quickchartButtonEl.disabled = true;  // To prevent multiple clicks.\n",
              "      quickchartButtonEl.classList.add('colab-df-spinner');\n",
              "      try {\n",
              "        const charts = await google.colab.kernel.invokeFunction(\n",
              "            'suggestCharts', [key], {});\n",
              "      } catch (error) {\n",
              "        console.error('Error during call to suggestCharts:', error);\n",
              "      }\n",
              "      quickchartButtonEl.classList.remove('colab-df-spinner');\n",
              "      quickchartButtonEl.classList.add('colab-df-quickchart-complete');\n",
              "    }\n",
              "    (() => {\n",
              "      let quickchartButtonEl =\n",
              "        document.querySelector('#df-eb973453-0bb6-4223-8b43-e13080e14857 button');\n",
              "      quickchartButtonEl.style.display =\n",
              "        google.colab.kernel.accessAllowed ? 'block' : 'none';\n",
              "    })();\n",
              "  </script>\n",
              "</div>\n",
              "    </div>\n",
              "  </div>\n"
            ]
          },
          "metadata": {},
          "execution_count": 194
        }
      ]
    },
    {
      "cell_type": "markdown",
      "source": [
        "#Correlation Map"
      ],
      "metadata": {
        "id": "OHyzADux9QS_"
      }
    },
    {
      "cell_type": "code",
      "source": [
        "import seaborn as sns\n",
        "\n",
        "sns.heatmap(training_data.corr(), cmap=\"YlGnBu\")\n",
        "plt.show()"
      ],
      "metadata": {
        "colab": {
          "base_uri": "https://localhost:8080/",
          "height": 560
        },
        "id": "smSUtbMF_dtm",
        "outputId": "f3882634-6bcd-4773-839d-365407a91ee3"
      },
      "execution_count": 195,
      "outputs": [
        {
          "output_type": "stream",
          "name": "stderr",
          "text": [
            "<ipython-input-195-f1c513e8c49f>:3: FutureWarning: The default value of numeric_only in DataFrame.corr is deprecated. In a future version, it will default to False. Select only valid columns or specify the value of numeric_only to silence this warning.\n",
            "  sns.heatmap(training_data.corr(), cmap=\"YlGnBu\")\n"
          ]
        },
        {
          "output_type": "display_data",
          "data": {
            "text/plain": [
              "<Figure size 640x480 with 2 Axes>"
            ],
            "image/png": "[encoded data removed]"
          },
          "metadata": {}
        }
      ]
    },
    {
      "cell_type": "markdown",
      "source": [
        "Heat map shows which values are either strongly correlated or negatively corelated with survived. There are certain values that do not show up since they are not numeric, for example: Sex. We will have to change those values to numbers since they will be strongly correlated.\n",
        "\n",
        "#Split Data\n",
        "We want to split the training data once again in order to train and test using exclusively the training data. Generally you do not want to look at the real testing data beforehand. Thus we will create new test data and training data from our training data.\n",
        "\n",
        "Even if training data and test data is split randomly, by chance the training data can be not reflective of the testing data and vica versa. Thus we split the data based on certain key values (ex: survived, sex, Pclass) so that there should be fairly equal proportions of those values in the training data and test data"
      ],
      "metadata": {
        "id": "TbFd50y9_bLj"
      }
    },
    {
      "cell_type": "code",
      "source": [
        "from tables.tests.test_suite import test\n",
        "from sklearn.model_selection import StratifiedShuffleSplit\n",
        "\n",
        "#use SSSplit to divide in two, 0.2 for a 80% 20% distribution of training vs test data\n",
        "split_data = StratifiedShuffleSplit(n_splits=1, test_size=0.2)\n",
        "\n",
        "#Make sure data is split to have equal proportions of Survived, Sex, and Pclass\n",
        "for train_indices, test_indices in split_data.split(training_data, training_data[[\"Survived\", \"Pclass\", \"Sex\"]]):\n",
        "  strat_train_set = training_data.loc[train_indices]\n",
        "  strat_test_set = training_data.loc[test_indices]\n",
        "\n",
        " #for now, just changings it temporarily ***\n",
        "  strat_train_set_container = strat_train_set\n",
        "  strat_train_set = training_data"
      ],
      "metadata": {
        "id": "BznEfrUi-cO4"
      },
      "execution_count": 196,
      "outputs": []
    },
    {
      "cell_type": "markdown",
      "source": [
        "#Evenly split data"
      ],
      "metadata": {
        "id": "_YvYeW0SEUqc"
      }
    },
    {
      "cell_type": "code",
      "source": [
        "plt.subplot(1,2,1)\n",
        "strat_train_set[\"Survived\"].hist()\n",
        "strat_train_set[\"Pclass\"].hist()\n",
        "\n",
        "plt.subplot(1,2,2)\n",
        "strat_test_set[\"Survived\"].hist()\n",
        "strat_test_set[\"Pclass\"].hist()\n",
        "\n",
        "plt.show()"
      ],
      "metadata": {
        "colab": {
          "base_uri": "https://localhost:8080/",
          "height": 430
        },
        "id": "Qm7wsD0SDynH",
        "outputId": "52abb330-357a-4e12-8bb8-4ebf08db349f"
      },
      "execution_count": 197,
      "outputs": [
        {
          "output_type": "display_data",
          "data": {
            "text/plain": [
              "<Figure size 640x480 with 2 Axes>"
            ],
            "image/png": "[encoded data removed]"
          },
          "metadata": {}
        }
      ]
    },
    {
      "cell_type": "markdown",
      "source": [
        "Blue represents survival (0 - did not survive, 1 -did survive)\n",
        "\n",
        "Orange represents Pclass (there are 3 different levels of passenger class)\n",
        "\n",
        "As you can see there is an equal proportion of these factors in each data set"
      ],
      "metadata": {
        "id": "TYvvFfbEEZNz"
      }
    },
    {
      "cell_type": "markdown",
      "source": [
        "#Missing data?"
      ],
      "metadata": {
        "id": "ozeDYFa5E6OX"
      }
    },
    {
      "cell_type": "code",
      "source": [
        "strat_train_set.info()"
      ],
      "metadata": {
        "colab": {
          "base_uri": "https://localhost:8080/"
        },
        "id": "yPXGVcgyEpMv",
        "outputId": "01bedaa7-fd31-439a-d4a6-c5fc0dc1429b"
      },
      "execution_count": 198,
      "outputs": [
        {
          "output_type": "stream",
          "name": "stdout",
          "text": [
            "<class 'pandas.core.frame.DataFrame'>\n",
            "RangeIndex: 891 entries, 0 to 890\n",
            "Data columns (total 12 columns):\n",
            " #   Column       Non-Null Count  Dtype  \n",
            "---  ------       --------------  -----  \n",
            " 0   PassengerId  891 non-null    int64  \n",
            " 1   Survived     891 non-null    int64  \n",
            " 2   Pclass       891 non-null    int64  \n",
            " 3   Name         891 non-null    object \n",
            " 4   Sex          891 non-null    object \n",
            " 5   Age          714 non-null    float64\n",
            " 6   SibSp        891 non-null    int64  \n",
            " 7   Parch        891 non-null    int64  \n",
            " 8   Ticket       891 non-null    object \n",
            " 9   Fare         891 non-null    float64\n",
            " 10  Cabin        204 non-null    object \n",
            " 11  Embarked     889 non-null    object \n",
            "dtypes: float64(2), int64(5), object(5)\n",
            "memory usage: 83.7+ KB\n"
          ]
        }
      ]
    },
    {
      "cell_type": "markdown",
      "source": [
        "- over 100 missing ages\n",
        "- Mostly missing cabin numbers (will most likely drop)"
      ],
      "metadata": {
        "id": "2oHIDLPOE90G"
      }
    },
    {
      "cell_type": "markdown",
      "source": [
        "#Estimate and fill missing data\n",
        "\n",
        "give passengers with missing age the mean age\n"
      ],
      "metadata": {
        "id": "gmhgSOSRF_3l"
      }
    },
    {
      "cell_type": "code",
      "source": [
        "#BaseEstimator used to define an estimator\n",
        "#Transformermixin lets us use fit and transform together without defining them explicitely\n",
        "#SimpleImputer lets us fill missing data with some strategy ex:mean\n",
        "from sklearn.base import BaseEstimator, TransformerMixin\n",
        "from sklearn.impute import SimpleImputer\n",
        "\n",
        "class AgeImputer (BaseEstimator,TransformerMixin) :\n",
        "\n",
        "  def fit(self,X,y=None):\n",
        "    return self\n",
        "\n",
        "  def transform(self, X):\n",
        "    imputer = SimpleImputer(strategy=\"mean\")\n",
        "    X['Age'] = imputer.fit_transform(X[['Age']])\n",
        "    return X"
      ],
      "metadata": {
        "id": "9aPeof7qGCBX"
      },
      "execution_count": 199,
      "outputs": []
    },
    {
      "cell_type": "markdown",
      "source": [
        "# One hot encoding\n",
        "\n",
        "transforming values that are not numeric into binary columns (ex: The column Sex with possible values \"male\" and \"female\" will now be 2 seperate rows with values 0 or 1 )"
      ],
      "metadata": {
        "id": "DEQWp11mH5TN"
      }
    },
    {
      "cell_type": "code",
      "source": [
        "from sklearn.preprocessing import OneHotEncoder\n",
        "from sklearn.base import BaseEstimator, TransformerMixin\n",
        "\n",
        "class FeatureEncoder (BaseEstimator, TransformerMixin):\n",
        "\n",
        "  def fit(self, X, y=None):\n",
        "    return self\n",
        "\n",
        "  def transform(self, X):\n",
        "    encoder = OneHotEncoder()\n",
        "\n",
        "    matrix = encoder.fit_transform(X[[\"Embarked\"]]).toarray()\n",
        "    column_names = [\"C\",\"S\",\"Q\",\"N\"]\n",
        "\n",
        "    for i in range(len(matrix.T)): # .T because we transpose the matrix to flip from column to row\n",
        "      X[column_names[i]] = matrix.T[i]\n",
        "\n",
        "    matrix = encoder.fit_transform(X[[\"Sex\"]]).toarray()\n",
        "    column_names = [\"Female\", \"Male\"]\n",
        "\n",
        "    for i in range(len(matrix.T)):\n",
        "      X[column_names[i]] = matrix.T[i]\n",
        "\n",
        "    return X\n"
      ],
      "metadata": {
        "id": "ntCGApZHHy1X"
      },
      "execution_count": 200,
      "outputs": []
    },
    {
      "cell_type": "markdown",
      "source": [
        "#Drop unneeded data"
      ],
      "metadata": {
        "id": "wnNPg0M0KIzg"
      }
    },
    {
      "cell_type": "code",
      "source": [
        "from sklearn.base import BaseEstimator, TransformerMixin\n",
        "\n",
        "class FeatureDropper (BaseEstimator, TransformerMixin):\n",
        "\n",
        "  def fit(self, X, y=None):\n",
        "    return self\n",
        "\n",
        "  def transform(self, X):\n",
        "    return X.drop([\"Embarked\",\"Name\",\"Ticket\",\"Cabin\",\"Sex\",\"N\"], axis=1, errors=\"ignore\")"
      ],
      "metadata": {
        "id": "gE1lvMZAFENj"
      },
      "execution_count": 201,
      "outputs": []
    },
    {
      "cell_type": "markdown",
      "source": [
        "#Pipeline\n",
        "\n",
        "The Lists of steps that the data goes through to clean it and get it in a good state to train the model. Basically adding all the tools we just created together."
      ],
      "metadata": {
        "id": "8qKbnNOuK6k5"
      }
    },
    {
      "cell_type": "code",
      "source": [
        "from sklearn.pipeline import Pipeline\n",
        "\n",
        "pipeline = Pipeline([(\"ageimputer\", AgeImputer()),\n",
        "                     (\"featureencoder\", FeatureEncoder()),\n",
        "                     (\"featuredropper\", FeatureDropper())])"
      ],
      "metadata": {
        "id": "PkeSxhtlK8Nb"
      },
      "execution_count": 202,
      "outputs": []
    },
    {
      "cell_type": "code",
      "source": [
        "#apply the pipeline, we should now have no missing data\n",
        "\n",
        "strat_test_cleaned = pipeline.fit_transform(strat_test_set)\n",
        "strat_train_cleaned = pipeline.fit_transform(strat_train_set)\n",
        "\n",
        "strat_train_cleaned.info()"
      ],
      "metadata": {
        "colab": {
          "base_uri": "https://localhost:8080/"
        },
        "id": "RZT-50HALugI",
        "outputId": "81d25e69-26fa-40c0-ca8f-e9251b19dd2c"
      },
      "execution_count": 203,
      "outputs": [
        {
          "output_type": "stream",
          "name": "stdout",
          "text": [
            "<class 'pandas.core.frame.DataFrame'>\n",
            "RangeIndex: 891 entries, 0 to 890\n",
            "Data columns (total 12 columns):\n",
            " #   Column       Non-Null Count  Dtype  \n",
            "---  ------       --------------  -----  \n",
            " 0   PassengerId  891 non-null    int64  \n",
            " 1   Survived     891 non-null    int64  \n",
            " 2   Pclass       891 non-null    int64  \n",
            " 3   Age          891 non-null    float64\n",
            " 4   SibSp        891 non-null    int64  \n",
            " 5   Parch        891 non-null    int64  \n",
            " 6   Fare         891 non-null    float64\n",
            " 7   C            891 non-null    float64\n",
            " 8   S            891 non-null    float64\n",
            " 9   Q            891 non-null    float64\n",
            " 10  Female       891 non-null    float64\n",
            " 11  Male         891 non-null    float64\n",
            "dtypes: float64(7), int64(5)\n",
            "memory usage: 83.7 KB\n"
          ]
        }
      ]
    },
    {
      "cell_type": "markdown",
      "source": [
        "#Scale Data"
      ],
      "metadata": {
        "id": "czpP4BfpNzXF"
      }
    },
    {
      "cell_type": "code",
      "source": [
        "#scale everything an give numpy arrays\n",
        "\n",
        "from sklearn.preprocessing import StandardScaler\n",
        "\n",
        "#training data\n",
        "X_train = strat_train_cleaned.drop(['Survived'], axis=1)\n",
        "y_train = strat_train_cleaned['Survived']\n",
        "\n",
        "#testing data\n",
        "X_val = strat_test_cleaned.drop(['Survived'], axis=1)\n",
        "y_val = strat_test_cleaned['Survived']\n",
        "\n",
        "#scale data\n",
        "scaler = StandardScaler()\n",
        "X_train = scaler.fit_transform(X_train)\n",
        "y_train = y_train.to_numpy()\n",
        "\n",
        "X_val = scaler.fit_transform(X_val)\n",
        "y_val = y_val.to_numpy()\n",
        "\n",
        "X_train.shape, X_val.shape,y_train.shape, y_val.shape"
      ],
      "metadata": {
        "colab": {
          "base_uri": "https://localhost:8080/"
        },
        "id": "M-pUF91cMt5D",
        "outputId": "d38388e5-f9bf-4261-c4e1-0b9c0563211c"
      },
      "execution_count": 204,
      "outputs": [
        {
          "output_type": "execute_result",
          "data": {
            "text/plain": [
              "((891, 11), (179, 11), (891,), (179,))"
            ]
          },
          "metadata": {},
          "execution_count": 204
        }
      ]
    },
    {
      "cell_type": "markdown",
      "source": [
        "#Build Model"
      ],
      "metadata": {
        "id": "e145Cs_FRjsl"
      }
    },
    {
      "cell_type": "code",
      "source": [
        "import torch\n",
        "import torch.nn as nn\n",
        "import torch.nn.functional as func\n",
        "\n",
        "class TitanicModel(nn.Module):\n",
        "  def __init__(self):\n",
        "        super(TitanicModel, self).__init__()\n",
        "        self.fc1 = nn.Linear(11, 165)\n",
        "        self.fc2 = nn.Linear(165, 2)\n",
        "\n",
        "  def forward(self, x):\n",
        "      x = self.fc1(x)\n",
        "      x = func.dropout(x, p=0.1)\n",
        "      x = func.relu(x) #for non-linearity\n",
        "      x = self.fc2(x)\n",
        "      x = func.sigmoid(x) #for binary solutions\n",
        "\n",
        "      return x\n",
        "\n",
        "model = TitanicModel()\n"
      ],
      "metadata": {
        "id": "xqOcpmvciLIe"
      },
      "execution_count": 205,
      "outputs": []
    },
    {
      "cell_type": "code",
      "source": [
        "model.state_dict()"
      ],
      "metadata": {
        "colab": {
          "base_uri": "https://localhost:8080/"
        },
        "id": "JHE2nGIilcsW",
        "outputId": "1772e2a4-dc43-40d0-8670-58c2710598d2"
      },
      "execution_count": 206,
      "outputs": [
        {
          "output_type": "execute_result",
          "data": {
            "text/plain": [
              "OrderedDict([('fc1.weight',\n",
              "              tensor([[ 0.2812,  0.2399,  0.2168,  ...,  0.2237, -0.2792,  0.0186],\n",
              "                      [ 0.0265,  0.0027, -0.1839,  ...,  0.1949, -0.0495, -0.1230],\n",
              "                      [ 0.1565, -0.2562, -0.1099,  ..., -0.0474,  0.0434, -0.2245],\n",
              "                      ...,\n",
              "                      [ 0.1848, -0.0276,  0.1865,  ..., -0.0584, -0.0947, -0.2842],\n",
              "                      [-0.1592, -0.0356, -0.0523,  ...,  0.1546, -0.1983, -0.0662],\n",
              "                      [-0.0497, -0.2247, -0.2122,  ..., -0.0683,  0.0236, -0.1669]])),\n",
              "             ('fc1.bias',\n",
              "              tensor([ 0.1381, -0.1296,  0.2373, -0.1087,  0.1993,  0.2909, -0.1821,  0.2573,\n",
              "                      -0.1778, -0.0866, -0.2409,  0.0476,  0.1182,  0.2713,  0.0520, -0.0745,\n",
              "                       0.1117,  0.1504,  0.0347, -0.0809,  0.1630,  0.2549, -0.1251,  0.0630,\n",
              "                      -0.1329, -0.1042,  0.1846,  0.2454, -0.0618, -0.1078, -0.1739, -0.2303,\n",
              "                       0.2083, -0.1581,  0.2087,  0.2687, -0.1974, -0.2702, -0.0096, -0.0684,\n",
              "                       0.0270,  0.0879,  0.1517, -0.1007, -0.2877, -0.1575,  0.2078, -0.0388,\n",
              "                      -0.2286, -0.0473, -0.0048,  0.1215,  0.1064,  0.0012, -0.0093, -0.0956,\n",
              "                       0.1614,  0.0864,  0.0032, -0.2820, -0.2659, -0.0265, -0.1937,  0.1016,\n",
              "                      -0.0175, -0.1906, -0.2433,  0.2178, -0.2375, -0.0363, -0.0987,  0.1304,\n",
              "                      -0.2140,  0.1807,  0.0187, -0.0619, -0.2463, -0.2704, -0.2951,  0.1930,\n",
              "                      -0.1847, -0.0334,  0.2082, -0.1262, -0.0795, -0.1598, -0.2045,  0.0911,\n",
              "                       0.1153,  0.0510, -0.2174, -0.2865, -0.2776, -0.0471,  0.0854,  0.2688,\n",
              "                      -0.0637,  0.2922, -0.0985,  0.1129, -0.2244,  0.0008,  0.0099, -0.2309,\n",
              "                       0.2884,  0.2276,  0.2418,  0.2016,  0.1125,  0.2452, -0.1348,  0.1654,\n",
              "                       0.2103,  0.1249, -0.1726,  0.2089,  0.1607, -0.2268,  0.1331,  0.1965,\n",
              "                       0.2801,  0.1366, -0.0967, -0.2973,  0.0734, -0.0704, -0.1672,  0.0710,\n",
              "                       0.0995,  0.2495,  0.1041, -0.2071, -0.0084,  0.0869,  0.1519,  0.2905,\n",
              "                      -0.0519, -0.0164,  0.0546,  0.1061, -0.1577,  0.1770,  0.2477,  0.1756,\n",
              "                      -0.2575, -0.2534, -0.2008,  0.2009,  0.2095,  0.2867, -0.2682,  0.0468,\n",
              "                      -0.1538, -0.2851, -0.2224, -0.1279,  0.1903, -0.0696,  0.2943, -0.1243,\n",
              "                      -0.1710, -0.2243,  0.2634,  0.2661, -0.1276])),\n",
              "             ('fc2.weight',\n",
              "              tensor([[ 0.0455, -0.0382, -0.0307, -0.0267,  0.0410, -0.0083, -0.0329,  0.0082,\n",
              "                        0.0226, -0.0602, -0.0577,  0.0452,  0.0506, -0.0644, -0.0778,  0.0326,\n",
              "                       -0.0457,  0.0482,  0.0076,  0.0046,  0.0105, -0.0071, -0.0298, -0.0734,\n",
              "                        0.0760,  0.0198, -0.0490, -0.0604,  0.0503, -0.0703,  0.0488,  0.0046,\n",
              "                       -0.0216,  0.0339,  0.0173,  0.0323,  0.0595, -0.0599, -0.0372, -0.0130,\n",
              "                        0.0638, -0.0556, -0.0089, -0.0555,  0.0092, -0.0376, -0.0115,  0.0557,\n",
              "                        0.0284,  0.0370,  0.0213, -0.0554, -0.0255,  0.0101,  0.0120,  0.0566,\n",
              "                       -0.0177,  0.0750,  0.0052,  0.0160,  0.0234,  0.0232, -0.0472, -0.0690,\n",
              "                       -0.0594, -0.0284,  0.0167,  0.0500,  0.0339,  0.0666,  0.0775, -0.0145,\n",
              "                       -0.0042,  0.0267, -0.0628,  0.0693,  0.0364, -0.0396,  0.0685,  0.0761,\n",
              "                        0.0018,  0.0682, -0.0076, -0.0112,  0.0253, -0.0256,  0.0217,  0.0502,\n",
              "                       -0.0541,  0.0270, -0.0075, -0.0247,  0.0440, -0.0336, -0.0494, -0.0631,\n",
              "                        0.0254,  0.0319,  0.0776,  0.0548, -0.0210,  0.0549, -0.0245, -0.0340,\n",
              "                       -0.0504,  0.0021,  0.0236, -0.0608, -0.0707,  0.0341,  0.0763, -0.0643,\n",
              "                        0.0059,  0.0511,  0.0452,  0.0642, -0.0548,  0.0292,  0.0180,  0.0631,\n",
              "                       -0.0664, -0.0723,  0.0490, -0.0440, -0.0027,  0.0252, -0.0656,  0.0537,\n",
              "                       -0.0141, -0.0544, -0.0526,  0.0730, -0.0620,  0.0491, -0.0497, -0.0125,\n",
              "                       -0.0357,  0.0319, -0.0386, -0.0194, -0.0695, -0.0770, -0.0372, -0.0279,\n",
              "                       -0.0324,  0.0512,  0.0177, -0.0255,  0.0751, -0.0101, -0.0672,  0.0483,\n",
              "                       -0.0209, -0.0169,  0.0616,  0.0758, -0.0011, -0.0454, -0.0456, -0.0342,\n",
              "                        0.0152, -0.0492, -0.0042,  0.0684,  0.0160],\n",
              "                      [-0.0736,  0.0207, -0.0169,  0.0618,  0.0154, -0.0768,  0.0744, -0.0698,\n",
              "                       -0.0639, -0.0525, -0.0453,  0.0715,  0.0129,  0.0236, -0.0057,  0.0035,\n",
              "                        0.0730,  0.0369,  0.0504, -0.0442,  0.0180, -0.0749, -0.0693, -0.0747,\n",
              "                        0.0018,  0.0016, -0.0231, -0.0053,  0.0199,  0.0549, -0.0510,  0.0487,\n",
              "                        0.0700,  0.0036,  0.0032, -0.0552, -0.0008,  0.0582, -0.0380, -0.0137,\n",
              "                        0.0165, -0.0120, -0.0688,  0.0696,  0.0168,  0.0059, -0.0444,  0.0711,\n",
              "                        0.0103, -0.0414,  0.0243,  0.0434, -0.0227,  0.0629,  0.0562,  0.0758,\n",
              "                       -0.0436, -0.0499, -0.0653,  0.0656,  0.0430, -0.0052, -0.0588,  0.0443,\n",
              "                       -0.0535,  0.0214,  0.0296, -0.0574,  0.0670, -0.0274, -0.0253,  0.0313,\n",
              "                        0.0496, -0.0634,  0.0577,  0.0334, -0.0646, -0.0439,  0.0168,  0.0250,\n",
              "                        0.0575, -0.0206, -0.0196, -0.0266, -0.0552, -0.0003, -0.0037,  0.0029,\n",
              "                        0.0116,  0.0407,  0.0478, -0.0314,  0.0372,  0.0680, -0.0507, -0.0347,\n",
              "                       -0.0590, -0.0705, -0.0719, -0.0020, -0.0166, -0.0419,  0.0517, -0.0677,\n",
              "                        0.0503,  0.0397, -0.0088, -0.0223, -0.0294,  0.0441, -0.0097, -0.0291,\n",
              "                        0.0381, -0.0235, -0.0030, -0.0179, -0.0467,  0.0146, -0.0628, -0.0651,\n",
              "                        0.0136, -0.0243,  0.0525, -0.0192, -0.0378,  0.0052, -0.0143,  0.0505,\n",
              "                        0.0412, -0.0346,  0.0187,  0.0181,  0.0187, -0.0188,  0.0572,  0.0303,\n",
              "                       -0.0550,  0.0651, -0.0424,  0.0352, -0.0676,  0.0176, -0.0707, -0.0623,\n",
              "                       -0.0699,  0.0209,  0.0100,  0.0607,  0.0138,  0.0736,  0.0646,  0.0255,\n",
              "                       -0.0319, -0.0704, -0.0442,  0.0065, -0.0126, -0.0451,  0.0224, -0.0175,\n",
              "                        0.0685, -0.0393,  0.0092, -0.0129,  0.0720]])),\n",
              "             ('fc2.bias', tensor([0.0253, 0.0213]))])"
            ]
          },
          "metadata": {},
          "execution_count": 206
        }
      ]
    },
    {
      "cell_type": "markdown",
      "source": [
        "#Choosing optimizer and loss functions"
      ],
      "metadata": {
        "id": "xrSBhMaynxYv"
      }
    },
    {
      "cell_type": "code",
      "source": [
        "batch_size = 50\n",
        "num_epochs = 200\n",
        "learning_rate = 0.01\n",
        "batch_no = len(X_train) // batch_size\n",
        "\n",
        "criterion = nn.CrossEntropyLoss()\n",
        "optimizer = torch.optim.Adam(params=model.parameters(), lr=learning_rate)"
      ],
      "metadata": {
        "id": "NX1s_XMcn14U"
      },
      "execution_count": 207,
      "outputs": []
    },
    {
      "cell_type": "markdown",
      "source": [
        "#Training the Model"
      ],
      "metadata": {
        "id": "1fg9HbQFntoL"
      }
    },
    {
      "cell_type": "code",
      "source": [
        "from sklearn.utils import shuffle\n",
        "from torch.autograd import Variable\n",
        "\n",
        "for epoch in range(num_epochs):\n",
        "    if epoch % 5 == 0:\n",
        "        print('Epoch {}'.format(epoch+1))\n",
        "    X_train, y_train = shuffle(X_train, y_train)\n",
        "    # Mini batch learning\n",
        "    for i in range(batch_no):\n",
        "        start = i * batch_size\n",
        "        end = start + batch_size\n",
        "        x_var = Variable(torch.FloatTensor(X_train[start:end]))\n",
        "        y_var = Variable(torch.LongTensor(y_train[start:end]))\n",
        "        # Forward + Backward + Optimize\n",
        "        optimizer.zero_grad()\n",
        "        ypred_var = model(x_var)\n",
        "        loss = criterion(ypred_var, y_var)\n",
        "        loss.backward()\n",
        "        optimizer.step()"
      ],
      "metadata": {
        "colab": {
          "base_uri": "https://localhost:8080/"
        },
        "id": "VPdnCqS7myiH",
        "outputId": "bfc469eb-a16f-49fd-b0fb-1d72c10be743"
      },
      "execution_count": 208,
      "outputs": [
        {
          "output_type": "stream",
          "name": "stdout",
          "text": [
            "Epoch 1\n",
            "Epoch 6\n",
            "Epoch 11\n",
            "Epoch 16\n",
            "Epoch 21\n",
            "Epoch 26\n",
            "Epoch 31\n",
            "Epoch 36\n",
            "Epoch 41\n",
            "Epoch 46\n",
            "Epoch 51\n",
            "Epoch 56\n",
            "Epoch 61\n",
            "Epoch 66\n",
            "Epoch 71\n",
            "Epoch 76\n",
            "Epoch 81\n",
            "Epoch 86\n",
            "Epoch 91\n",
            "Epoch 96\n",
            "Epoch 101\n",
            "Epoch 106\n",
            "Epoch 111\n",
            "Epoch 116\n",
            "Epoch 121\n",
            "Epoch 126\n",
            "Epoch 131\n",
            "Epoch 136\n",
            "Epoch 141\n",
            "Epoch 146\n",
            "Epoch 151\n",
            "Epoch 156\n",
            "Epoch 161\n",
            "Epoch 166\n",
            "Epoch 171\n",
            "Epoch 176\n",
            "Epoch 181\n",
            "Epoch 186\n",
            "Epoch 191\n",
            "Epoch 196\n"
          ]
        }
      ]
    },
    {
      "cell_type": "markdown",
      "source": [
        "# Evaluate the model"
      ],
      "metadata": {
        "id": "8V7HIUlJwFwZ"
      }
    },
    {
      "cell_type": "code",
      "source": [
        "# Evaluate the model\n",
        "test_var = Variable(torch.FloatTensor(X_val), requires_grad=True)\n",
        "with torch.no_grad():\n",
        "    result = model(test_var)\n",
        "values, labels = torch.max(result, 1)\n",
        "num_right = np.sum(labels.data.numpy() == y_val)\n",
        "print('Accuracy {:.2f}'.format(num_right / len(y_val)))"
      ],
      "metadata": {
        "colab": {
          "base_uri": "https://localhost:8080/"
        },
        "id": "NfvcY4fdwIKc",
        "outputId": "e7e9a4ec-51ed-49c6-ab39-eed0236ca63d"
      },
      "execution_count": 209,
      "outputs": [
        {
          "output_type": "stream",
          "name": "stdout",
          "text": [
            "Accuracy 0.88\n"
          ]
        }
      ]
    },
    {
      "cell_type": "markdown",
      "source": [
        "#Final Test\n"
      ],
      "metadata": {
        "id": "H6TCCZCDRpOI"
      }
    },
    {
      "cell_type": "code",
      "source": [
        "from sklearn.preprocessing import StandardScaler\n",
        "\n",
        "# the final test data in csv\n",
        "test = pd.read_csv('/content/drive/My Drive/titanic/test.csv')\n",
        "test_data_cleaned = pipeline.fit_transform(test)\n",
        "test_data_cleaned = test_data_cleaned.fillna(method=\"ffill\") ## fills any missing data. In this case fare number\n",
        "\n",
        "scaler = StandardScaler()\n",
        "test_data_final = scaler.fit_transform(test_data_cleaned)\n",
        "\n",
        "#test_data_cleaned.info()\n",
        "#test_data_final\n",
        "test_data_final.shape"
      ],
      "metadata": {
        "colab": {
          "base_uri": "https://localhost:8080/"
        },
        "id": "LyG5T7H6Rtml",
        "outputId": "f6bee5f3-24f5-457e-f88f-761d811ce76c"
      },
      "execution_count": 210,
      "outputs": [
        {
          "output_type": "execute_result",
          "data": {
            "text/plain": [
              "(418, 11)"
            ]
          },
          "metadata": {},
          "execution_count": 210
        }
      ]
    },
    {
      "cell_type": "markdown",
      "source": [
        "#Predictions"
      ],
      "metadata": {
        "id": "tV6viColyRA_"
      }
    },
    {
      "cell_type": "code",
      "source": [
        "X_test_var = Variable(torch.FloatTensor(test_data_final), requires_grad=True)\n",
        "with torch.no_grad():\n",
        "    test_result = model(X_test_var)\n",
        "values, labels = torch.max(test_result, 1)\n",
        "predictions = labels.data.numpy()\n",
        "predictions"
      ],
      "metadata": {
        "colab": {
          "base_uri": "https://localhost:8080/"
        },
        "id": "GwVj3mNow9V0",
        "outputId": "b29d14d9-28b7-421d-a642-f49970340b02"
      },
      "execution_count": 211,
      "outputs": [
        {
          "output_type": "execute_result",
          "data": {
            "text/plain": [
              "array([0, 0, 0, 0, 0, 0, 1, 0, 1, 0, 0, 0, 1, 0, 1, 1, 0, 0, 0, 1, 0, 1,\n",
              "       1, 1, 1, 0, 1, 0, 0, 0, 0, 0, 0, 0, 0, 0, 0, 1, 0, 0, 0, 0, 0, 1,\n",
              "       1, 0, 0, 0, 1, 0, 0, 0, 1, 1, 0, 0, 0, 0, 0, 1, 0, 0, 0, 1, 0, 1,\n",
              "       1, 0, 0, 1, 1, 0, 0, 0, 1, 0, 0, 1, 0, 1, 1, 0, 0, 0, 0, 0, 1, 1,\n",
              "       1, 1, 0, 0, 1, 0, 0, 0, 1, 0, 1, 0, 1, 0, 0, 0, 1, 0, 0, 0, 0, 0,\n",
              "       0, 1, 1, 1, 1, 0, 0, 1, 0, 1, 1, 0, 1, 0, 0, 1, 0, 0, 0, 0, 0, 0,\n",
              "       1, 0, 0, 0, 0, 0, 0, 0, 0, 1, 0, 0, 0, 0, 0, 0, 0, 0, 1, 0, 0, 1,\n",
              "       0, 0, 1, 1, 0, 1, 1, 1, 1, 0, 0, 0, 0, 0, 1, 1, 0, 0, 0, 0, 0, 1,\n",
              "       1, 1, 1, 1, 0, 1, 1, 0, 1, 0, 1, 0, 0, 0, 0, 1, 1, 0, 1, 0, 1, 1,\n",
              "       0, 0, 1, 1, 0, 1, 0, 0, 1, 0, 1, 0, 0, 0, 0, 1, 0, 0, 1, 0, 1, 0,\n",
              "       1, 0, 1, 0, 1, 1, 0, 1, 0, 0, 0, 1, 0, 0, 1, 0, 0, 0, 1, 1, 1, 1,\n",
              "       0, 0, 0, 1, 1, 0, 1, 0, 1, 0, 0, 0, 0, 0, 0, 0, 1, 0, 0, 0, 1, 1,\n",
              "       0, 0, 0, 0, 0, 0, 0, 0, 1, 1, 0, 1, 0, 0, 0, 0, 1, 1, 0, 1, 1, 0,\n",
              "       0, 0, 0, 0, 1, 0, 0, 1, 0, 0, 1, 0, 0, 0, 0, 0, 0, 0, 0, 1, 1, 1,\n",
              "       0, 0, 0, 0, 0, 0, 1, 0, 0, 0, 0, 0, 0, 0, 0, 0, 1, 0, 1, 0, 0, 0,\n",
              "       1, 0, 0, 1, 0, 1, 0, 0, 0, 0, 0, 0, 0, 1, 0, 1, 0, 0, 0, 1, 1, 0,\n",
              "       0, 0, 1, 0, 1, 0, 0, 0, 0, 1, 1, 0, 1, 0, 0, 1, 1, 0, 0, 1, 0, 0,\n",
              "       1, 1, 0, 0, 0, 0, 0, 0, 0, 0, 0, 1, 0, 0, 0, 0, 0, 1, 1, 0, 0, 1,\n",
              "       0, 1, 0, 0, 1, 0, 1, 0, 1, 0, 0, 0, 0, 1, 0, 1, 0, 0, 1, 0, 0, 0])"
            ]
          },
          "metadata": {},
          "execution_count": 211
        }
      ]
    },
    {
      "cell_type": "markdown",
      "source": [],
      "metadata": {
        "id": "OS8MZ-17cpy1"
      }
    },
    {
      "cell_type": "markdown",
      "source": [
        "#Save Results as CSV\n",
        "\n"
      ],
      "metadata": {
        "id": "xUy9A0ZIVLOb"
      }
    },
    {
      "cell_type": "code",
      "source": [
        "test = pd.read_csv('/content/drive/My Drive/titanic/test.csv')\n",
        "\n",
        "final_result = pd.DataFrame(test['PassengerId'])\n",
        "final_result['Survived'] = predictions\n",
        "final_result.to_csv('/content/drive/My Drive/titanic/predictions.csv', index=False)\n"
      ],
      "metadata": {
        "id": "Otb8sKj8VMNR"
      },
      "execution_count": 213,
      "outputs": []
    },
    {
      "cell_type": "markdown",
      "source": [
        "#FINISHED!!!!"
      ],
      "metadata": {
        "id": "0414ZoX2yXb2"
      }
    }
  ]
}